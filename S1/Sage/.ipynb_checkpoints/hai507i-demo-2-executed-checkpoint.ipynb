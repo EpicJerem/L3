{
 "cells": [
  {
   "cell_type": "code",
   "execution_count": 1,
   "metadata": {},
   "outputs": [],
   "source": [
    "%display latex\n",
    "%display default"
   ]
  },
  {
   "cell_type": "markdown",
   "metadata": {},
   "source": [
    "## Précision numérique"
   ]
  },
  {
   "cell_type": "markdown",
   "metadata": {},
   "source": [
    "Par défaut, les nombres flottants et les calculs flottants sont fait avec une précision de 53 bits"
   ]
  },
  {
   "cell_type": "code",
   "execution_count": 2,
   "metadata": {
    "scrolled": true
   },
   "outputs": [
    {
     "data": {
      "text/plain": [
       "Real Field with 53 bits of precision"
      ]
     },
     "execution_count": 2,
     "metadata": {},
     "output_type": "execute_result"
    }
   ],
   "source": [
    "a= 3.0\n",
    "a.parent()"
   ]
  },
  {
   "cell_type": "code",
   "execution_count": 3,
   "metadata": {},
   "outputs": [
    {
     "data": {
      "text/plain": [
       "53"
      ]
     },
     "execution_count": 3,
     "metadata": {},
     "output_type": "execute_result"
    }
   ],
   "source": [
    "a.precision()"
   ]
  },
  {
   "cell_type": "code",
   "execution_count": 4,
   "metadata": {},
   "outputs": [
    {
     "data": {
      "text/plain": [
       "Real Field with 53 bits of precision"
      ]
     },
     "execution_count": 4,
     "metadata": {},
     "output_type": "execute_result"
    }
   ],
   "source": [
    "(1.0/3.0).parent()"
   ]
  },
  {
   "cell_type": "code",
   "execution_count": 5,
   "metadata": {},
   "outputs": [
    {
     "name": "stdout",
     "output_type": "stream",
     "text": [
      "1/3 Rational Field\n",
      "0.333333333333333 Real Field with 53 bits of precision\n",
      "0.333333333333333 Real Field with 53 bits of precision\n"
     ]
    }
   ],
   "source": [
    "print(1/3, (1/3).parent())\n",
    "print( (1/3).n(), (1/3).n().parent())\n",
    "print(RR(1/3), RR(1/3).parent())\n"
   ]
  },
  {
   "cell_type": "markdown",
   "metadata": {},
   "source": [
    "Les nombres flottants sont définis comme instance de l'objet `RealField`. On peut spécifier la précision de cette objet."
   ]
  },
  {
   "cell_type": "code",
   "execution_count": 6,
   "metadata": {},
   "outputs": [
    {
     "data": {
      "text/plain": [
       "(53, 10, 200)"
      ]
     },
     "execution_count": 6,
     "metadata": {},
     "output_type": "execute_result"
    }
   ],
   "source": [
    "R=RealField()\n",
    "R10=RealField(10)\n",
    "R200=RealField(200)\n",
    "\n",
    "R.precision(), R10.precision(), R200.precision()"
   ]
  },
  {
   "cell_type": "code",
   "execution_count": 7,
   "metadata": {},
   "outputs": [
    {
     "data": {
      "text/plain": [
       "(3.69670656868857e54,\n",
       " 3.6e54,\n",
       " 3.6967065686885807935368708162449489665828918404074416864066e54)"
      ]
     },
     "execution_count": 7,
     "metadata": {},
     "output_type": "execute_result"
    }
   ],
   "source": [
    "a   = R(3.513)\n",
    "a10 = R10(3.513)\n",
    "a200= R200(3.513)\n",
    "\n",
    "a^100, a10^100, a200^100"
   ]
  },
  {
   "cell_type": "markdown",
   "metadata": {},
   "source": [
    "Calcul de $0.3-0.2-0.1$ avec différentes précisions"
   ]
  },
  {
   "cell_type": "code",
   "execution_count": 8,
   "metadata": {},
   "outputs": [
    {
     "data": {
      "text/plain": [
       "(-2.77555756156289e-17,\n",
       " -0.00012,\n",
       " 7.7787690973264271339300800672251553007378152109014589163764e-62)"
      ]
     },
     "execution_count": 8,
     "metadata": {},
     "output_type": "execute_result"
    }
   ],
   "source": [
    "a,b,c=.3,.2,.1\n",
    "a10,b10,c10=R10(.3),R10(.2),R10(.1)\n",
    "a200,b200,c200=R200(.3),R200(.2),R200(.1)\n",
    "a-b-c,a10-b10-c10,a200-b200-c200"
   ]
  },
  {
   "cell_type": "markdown",
   "metadata": {},
   "source": [
    "**Attention:** \n",
    "- si on ne précise pas RealField, la précision est calculée automatiquement.\n",
    "- si les calculs sont mixtes (opérandes avec différentes précisions), les calculs sont fait dans la plus petite précision"
   ]
  },
  {
   "cell_type": "code",
   "execution_count": 9,
   "metadata": {},
   "outputs": [
    {
     "data": {
      "text/plain": [
       "(143, Real Field with 143 bits of precision)"
      ]
     },
     "execution_count": 9,
     "metadata": {},
     "output_type": "execute_result"
    }
   ],
   "source": [
    "a=0.5555555555554033333333323232323233232111117\n",
    "a.precision(), a.parent()"
   ]
  },
  {
   "cell_type": "code",
   "execution_count": 10,
   "metadata": {},
   "outputs": [
    {
     "data": {
      "text/plain": [
       "(-0.00012, -0.00012)"
      ]
     },
     "execution_count": 10,
     "metadata": {},
     "output_type": "execute_result"
    }
   ],
   "source": [
    "a10-b200-c200, a10-b10-c10"
   ]
  },
  {
   "cell_type": "code",
   "execution_count": 11,
   "metadata": {},
   "outputs": [
    {
     "data": {
      "text/plain": [
       "(3.00000024822111e-11, 3.00000000010000e-11, 3.00000024822111e-11)"
      ]
     },
     "execution_count": 11,
     "metadata": {},
     "output_type": "execute_result"
    }
   ],
   "source": [
    "a= 0.1e-20\n",
    "b= 0.1\n",
    "c= 0.3e-10\n",
    "a+b+c-b,b-b+a+c,a+c+b-b"
   ]
  },
  {
   "cell_type": "markdown",
   "metadata": {},
   "source": [
    "**A RETENIR**\n",
    "> - `RealField(p)` est l'objet définissant les approximations flottantes à précision $p$\n",
    "> - `numerical_approx(expr, p)` ou `n(expr,p)` ou `expr.n(p)` retourne l'approximation flottante de l'expression `expr` à précision `p`\n",
    "> - par défaut `RealField(53)` est utilisé (déjà défini dans `RR`)"
   ]
  },
  {
   "cell_type": "markdown",
   "metadata": {},
   "source": [
    "## Exemple de problème de précision"
   ]
  },
  {
   "cell_type": "markdown",
   "metadata": {},
   "source": [
    "### calcul de racine carré"
   ]
  },
  {
   "cell_type": "code",
   "execution_count": 12,
   "metadata": {},
   "outputs": [
    {
     "name": "stdout",
     "output_type": "stream",
     "text": [
      "l'entier b est codée sur 347 bits\n"
     ]
    },
    {
     "data": {
      "text/plain": [
       "1686961934066707040236155036109474174986501789839001*sqrt(51)"
      ]
     },
     "execution_count": 12,
     "metadata": {},
     "output_type": "execute_result"
    }
   ],
   "source": [
    "a=51\n",
    "b=a^61\n",
    "print(\"l'entier b est codée sur \"+str( b.nbits()) + \" bits\")\n",
    "r=sqrt(b)\n",
    "r"
   ]
  },
  {
   "cell_type": "code",
   "execution_count": 13,
   "metadata": {},
   "outputs": [
    {
     "name": "stdout",
     "output_type": "stream",
     "text": [
      "12047317913813611992216795507023424262776490557440000 12047317913813610588023392961569665056411324497659166\n"
     ]
    },
    {
     "data": {
      "text/plain": [
       "(False, True)"
      ]
     },
     "execution_count": 13,
     "metadata": {},
     "output_type": "execute_result"
    }
   ],
   "source": [
    "s   = R(sqrt(b))\n",
    "s200= R200(sqrt(b))\n",
    "print(floor(s),floor(s200))\n",
    "floor(s)^2 <= b <(floor(s)+1)^2,\\\n",
    "floor(s200)^2 <= b <=(floor(s200)+1)^2"
   ]
  },
  {
   "cell_type": "markdown",
   "metadata": {},
   "source": [
    "## résolution de système d'équations linéaires \n"
   ]
  },
  {
   "cell_type": "code",
   "execution_count": 14,
   "metadata": {},
   "outputs": [],
   "source": [
    "N=2\n",
    "MS=MatrixSpace(QQ,N)\n",
    "VS=VectorSpace(QQ,N)\n",
    "A=MS.random_element(density=1,num_bound=10,den_bound=10)\n",
    "b=VS.random_element(num_bound=100,den_bound=100)\n",
    "V=var(list(\"x\"+ str(i) for i in range(N)))\n",
    "X=vector(V)\n",
    "eq=list((A*X)[i]==b[i] for i in range(N))"
   ]
  },
  {
   "cell_type": "markdown",
   "metadata": {},
   "source": [
    "### La fonction `solve`\n",
    "\n",
    "elle prend une liste d'équations symboliques et une liste d'inconnues"
   ]
  },
  {
   "cell_type": "code",
   "execution_count": 15,
   "metadata": {
    "scrolled": true
   },
   "outputs": [
    {
     "name": "stdout",
     "output_type": "stream",
     "text": [
      "variables: (x0, x1)\n",
      "Equations: [6*x0 - 10*x1 == (3/19), 4*x0 + x1 == (88/29)]\n"
     ]
    }
   ],
   "source": [
    "print(\"variables:\",V)\n",
    "print(\"Equations:\",eq)\n",
    "#for i in range(N):\n",
    "#    print(eq[i])"
   ]
  },
  {
   "cell_type": "code",
   "execution_count": 16,
   "metadata": {},
   "outputs": [
    {
     "data": {
      "text/plain": [
       "[[x0 == (16807/25346), x1 == (4842/12673)]]"
      ]
     },
     "execution_count": 16,
     "metadata": {},
     "output_type": "execute_result"
    }
   ],
   "source": [
    "sol=solve(eq, V)\n",
    "sol"
   ]
  },
  {
   "cell_type": "markdown",
   "metadata": {},
   "source": [
    "Est-il possible de faire la même chose mais de faire le calcul numériquement ?"
   ]
  },
  {
   "cell_type": "code",
   "execution_count": 17,
   "metadata": {},
   "outputs": [
    {
     "name": "stdout",
     "output_type": "stream",
     "text": [
      "variables: (x0, x1)\n",
      "Equations: [6.00000000000000*x0 - 10.0000000000000*x1 == 0.157894736842105, 4.00000000000000*x0 + 1.00000000000000*x1 == 3.03448275862069]\n"
     ]
    }
   ],
   "source": [
    "eqf=list((A.n()*X)[i]==b[i].n() for i in range(N))\n",
    "print(\"variables:\",V)\n",
    "print(\"Equations:\",eqf)\n",
    "#for i in range(N):\n",
    "#    print(eqf[i])"
   ]
  },
  {
   "cell_type": "code",
   "execution_count": 18,
   "metadata": {},
   "outputs": [
    {
     "data": {
      "text/plain": [
       "[[x0 == (16807/25346), x1 == (4842/12673)]]"
      ]
     },
     "execution_count": 18,
     "metadata": {},
     "output_type": "execute_result"
    }
   ],
   "source": [
    "solf=solve(eqf,V)\n",
    "solf"
   ]
  },
  {
   "cell_type": "markdown",
   "metadata": {},
   "source": [
    "Quoi, le résultat est le même !!!\n",
    "\n",
    "En fait, `solve` fait appel à une méthode de résolution symbolique. \n",
    "Cela implique que les réels sont transformées en nombre rationnel lors de la résolution. "
   ]
  },
  {
   "cell_type": "markdown",
   "metadata": {},
   "source": [
    "### l'algèbre linéaire"
   ]
  },
  {
   "cell_type": "code",
   "execution_count": 19,
   "metadata": {},
   "outputs": [
    {
     "data": {
      "text/html": [
       "<html><script type=\"math/tex; mode=display\">\\newcommand{\\Bold}[1]{\\mathbf{#1}}\\left[6 \\, x_{0} - 10 \\, x_{1} = \\left(\\frac{3}{19}\\right), 4 \\, x_{0} + x_{1} = \\left(\\frac{88}{29}\\right)\\right]</script></html>"
      ],
      "text/latex": [
       "$$\\newcommand{\\Bold}[1]{\\mathbf{#1}}\\left[6 \\, x_{0} - 10 \\, x_{1} = \\left(\\frac{3}{19}\\right), 4 \\, x_{0} + x_{1} = \\left(\\frac{88}{29}\\right)\\right]$$"
      ],
      "text/plain": [
       "[6*x0 - 10*x1 == (3/19), 4*x0 + x1 == (88/29)]"
      ]
     },
     "metadata": {},
     "output_type": "display_data"
    }
   ],
   "source": [
    "show(eq)"
   ]
  },
  {
   "cell_type": "code",
   "execution_count": 20,
   "metadata": {},
   "outputs": [
    {
     "data": {
      "text/html": [
       "<html><script type=\"math/tex; mode=display\">\\newcommand{\\Bold}[1]{\\mathbf{#1}}\\left(\\begin{array}{rr}\n",
       "6 & -10 \\\\\n",
       "4 & 1\n",
       "\\end{array}\\right) \\left(x_{0}, x_{1}\\right) \\left(\\frac{3}{19},\\,\\frac{88}{29}\\right)</script></html>"
      ],
      "text/latex": [
       "$$\\newcommand{\\Bold}[1]{\\mathbf{#1}}\\left(\\begin{array}{rr}\n",
       "6 & -10 \\\\\n",
       "4 & 1\n",
       "\\end{array}\\right) \\left(x_{0}, x_{1}\\right) \\left(\\frac{3}{19},\\,\\frac{88}{29}\\right)$$"
      ],
      "text/plain": [
       "[  6 -10]\n",
       "[  4   1] (x0, x1) (3/19, 88/29)"
      ]
     },
     "metadata": {},
     "output_type": "display_data"
    }
   ],
   "source": [
    "show(A, (V), b)"
   ]
  },
  {
   "cell_type": "code",
   "execution_count": 21,
   "metadata": {},
   "outputs": [
    {
     "data": {
      "text/html": [
       "<html><script type=\"math/tex; mode=display\">\\newcommand{\\Bold}[1]{\\mathbf{#1}}\\left(\\frac{16807}{25346},\\,\\frac{4842}{12673}\\right)</script></html>"
      ],
      "text/latex": [
       "$$\\newcommand{\\Bold}[1]{\\mathbf{#1}}\\left(\\frac{16807}{25346},\\,\\frac{4842}{12673}\\right)$$"
      ],
      "text/plain": [
       "(16807/25346, 4842/12673)"
      ]
     },
     "metadata": {},
     "output_type": "display_data"
    }
   ],
   "source": [
    "y=A.solve_right(b)\n",
    "show(y)"
   ]
  },
  {
   "cell_type": "markdown",
   "metadata": {},
   "source": [
    "Pareil mais en numérique"
   ]
  },
  {
   "cell_type": "code",
   "execution_count": 22,
   "metadata": {},
   "outputs": [
    {
     "data": {
      "text/html": [
       "<html><script type=\"math/tex; mode=display\">\\newcommand{\\Bold}[1]{\\mathbf{#1}}\\left(\\begin{array}{rr}\n",
       "6.00000000000000 & -10.0000000000000 \\\\\n",
       "4.00000000000000 & 1.00000000000000\n",
       "\\end{array}\\right) \\left(x_{0}, x_{1}\\right) \\left(0.157894736842105,\\,3.03448275862069\\right)</script></html>"
      ],
      "text/latex": [
       "$$\\newcommand{\\Bold}[1]{\\mathbf{#1}}\\left(\\begin{array}{rr}\n",
       "6.00000000000000 & -10.0000000000000 \\\\\n",
       "4.00000000000000 & 1.00000000000000\n",
       "\\end{array}\\right) \\left(x_{0}, x_{1}\\right) \\left(0.157894736842105,\\,3.03448275862069\\right)$$"
      ],
      "text/plain": [
       "[ 6.00000000000000 -10.0000000000000]\n",
       "[ 4.00000000000000  1.00000000000000] (x0, x1) (0.157894736842105, 3.03448275862069)"
      ]
     },
     "metadata": {},
     "output_type": "display_data"
    }
   ],
   "source": [
    "Af=A.numerical_approx()\n",
    "bf=b.n()\n",
    "show(Af,V,bf)"
   ]
  },
  {
   "cell_type": "code",
   "execution_count": 23,
   "metadata": {},
   "outputs": [
    {
     "data": {
      "text/html": [
       "<html><script type=\"math/tex; mode=display\">\\newcommand{\\Bold}[1]{\\mathbf{#1}}\\left(0.663102659196717,\\,0.382072121833820\\right)</script></html>"
      ],
      "text/latex": [
       "$$\\newcommand{\\Bold}[1]{\\mathbf{#1}}\\left(0.663102659196717,\\,0.382072121833820\\right)$$"
      ],
      "text/plain": [
       "(0.663102659196717, 0.382072121833820)"
      ]
     },
     "metadata": {},
     "output_type": "display_data"
    }
   ],
   "source": [
    "yf=Af.solve_right(bf)\n",
    "show(yf)"
   ]
  },
  {
   "cell_type": "code",
   "execution_count": 24,
   "metadata": {},
   "outputs": [
    {
     "data": {
      "text/plain": [
       "(0.000000000000000, 0.000000000000000)"
      ]
     },
     "execution_count": 24,
     "metadata": {},
     "output_type": "execute_result"
    }
   ],
   "source": [
    "# difference des solutions\n",
    "y.n()-yf"
   ]
  },
  {
   "cell_type": "markdown",
   "metadata": {},
   "source": [
    "Tout pareil mais en plus grand"
   ]
  },
  {
   "cell_type": "code",
   "execution_count": 25,
   "metadata": {},
   "outputs": [],
   "source": [
    "N=80\n",
    "MS=MatrixSpace(QQ,N)\n",
    "VS=VectorSpace(QQ,N)\n",
    "A=MS.random_element(density=1,num_bound=100,den_bound=100)\n",
    "b=VS.random_element(num_bound=100,den_bound=100)\n"
   ]
  },
  {
   "cell_type": "code",
   "execution_count": 26,
   "metadata": {
    "scrolled": true
   },
   "outputs": [
    {
     "name": "stdout",
     "output_type": "stream",
     "text": [
      "CPU times: user 41 s, sys: 453 ms, total: 41.5 s\n",
      "Wall time: 43 s\n"
     ]
    }
   ],
   "source": [
    "#print(A,b)\n",
    "%time y=A.solve_right(b)"
   ]
  },
  {
   "cell_type": "code",
   "execution_count": 27,
   "metadata": {},
   "outputs": [
    {
     "data": {
      "text/plain": [
       "57970337718554422407996920971469473210903275011254633857660575988018107565122437811098001942170435483086640812355914846434290028110896900385325473380132032558308119747549962137075144270722032644501347620757942983664108960141740484481399374009732402323530075354481963127283172987483999083033923157344206449678144825154143909513879286286342040767562616723233885048441895897815359838218267105682208552022667498608841438631074073531061020031550226840104481309319062729806989192799095792724474062022571665186432266654620580841797601565551872391141321183682236348133709487819907698830423030286891493656556993015756465072541130041310050472257206319363208274041663783927391274517052744247581808760196888227857007085510839913547331828842403503570045007148580103400916004644450064349294419867144169622355421203741711408315642212181363782990953713535524317223304683084613249513530853552525470477194170320090935006877395059993964449154161468911600754645853004160745028350662317046995287922317409078098194935899453410051547627902247886663965791420655486254591786480010608595042190446160142921659703048606136810007758502397069814532998659835798629201256748893746789130376224293633608548059657243170486729095567188018144342604883026932935565637594682482707955727504967343366908093022340235372637269526262769162251519503493538665335642327338253810138093355074323403630100237092521033582894877161084703711597717690753445590317868618574463507271842014022751356922748579988821495272933216146390592889413931855784470215259005420871820984364736262945103936110766620049516934790802763227025552072785289985645002993683901952879449857802644878292903612340598374935011396353097070431187335435620949752236054225248071997990803840048794417978725117935159798349101673495471255754554731903628615450127533085118517908357262658080672236775175045992128838544256222266927561996938825189411625631417584487563207546937660073395674732834337523442880302773724272910433090385561060762553100585521455742034573424580838094860481294001144529017554454549897551697193031295623746027877793452378901121786372813862091279614352549177129817891652802684250012965294869552264853956668185097502704563929499942867950295668557071582843150098774221163698146530923924531937209712229393674756557914478662365783537996610033213730537957379/11204373562401483002633867899402423463884622549683628730099608778458999448643648278284562677124687298297085642884106269168093097206151173345978659426923553204439021739874157734229886975505094856169959196031188104788389389902376080530666050884252354581624756213866372620495595111285023597178866971644972212619915155184536210289201988455912995061151306505324089450489082381255320755347500240522720163537838181376554127510198563392773835064292306033796364269333247205287689523694626006763973768864861460543108929964847146990752058965560285286950368276441346664577570972562470513174674710094338362532778321433083301791091947759186977547265501438925081655016962416885451453489237541282205105893144093682805414314180354254076160217427146211974959092773114908045849097896868588649935929923735219688179938290517223708890124682738623437245755491051903076615800832982570874843367751961985036105457698654584851840386404175179783522776428416416621369820908400786456946390058037068670590693787629055942652165504624490351666575319922399722031129534410025080925640324376607406538537417362555882861327925333284468112064523684165558235659979951918464773066773081549395962680375628987971771136597706324631890313104872460450526505605016407408291431927646957599412022922307459990341033936257803471300535483827369843940271042258782899538084640067446688854972847809384014145298323697998971156108315683994328599990423916271460881568300476447885129321777952486902338356911337470809392404669779026839733955766058595448386512449384960180174024309650909157654548306122931006356486308431099309771944238863311155054828779834707994085288664819477411485250364678608602739443048353791455116417789626162247562494694857879963459636159271066791379049832161196832184047237301052089899862958255578551764627904919637393370626502013090284352499346586637122266423993914759546182274327987523907154010275823288104729746570705749921381336629162970293328737708067973771503953081621686383263820337331221767201484735418457793449125854249996366706055049987696501064418005552669633323535693434060480919613189209624940953309337597834017546702137175654505656636997748368914976821759392334722023398804398345874865196714678534588350809188478510144434351727679464573992406641744236276960849532485986206008055179484518534364529080545182"
      ]
     },
     "execution_count": 27,
     "metadata": {},
     "output_type": "execute_result"
    }
   ],
   "source": [
    "y[0]"
   ]
  },
  {
   "cell_type": "code",
   "execution_count": 28,
   "metadata": {},
   "outputs": [
    {
     "name": "stdout",
     "output_type": "stream",
     "text": [
      "num(y[0])= 57970337718554422407996920971469473210903275011254633857660575988018107565122437811098001942170435483086640812355914846434290028110896900385325473380132032558308119747549962137075144270722032644501347620757942983664108960141740484481399374009732402323530075354481963127283172987483999083033923157344206449678144825154143909513879286286342040767562616723233885048441895897815359838218267105682208552022667498608841438631074073531061020031550226840104481309319062729806989192799095792724474062022571665186432266654620580841797601565551872391141321183682236348133709487819907698830423030286891493656556993015756465072541130041310050472257206319363208274041663783927391274517052744247581808760196888227857007085510839913547331828842403503570045007148580103400916004644450064349294419867144169622355421203741711408315642212181363782990953713535524317223304683084613249513530853552525470477194170320090935006877395059993964449154161468911600754645853004160745028350662317046995287922317409078098194935899453410051547627902247886663965791420655486254591786480010608595042190446160142921659703048606136810007758502397069814532998659835798629201256748893746789130376224293633608548059657243170486729095567188018144342604883026932935565637594682482707955727504967343366908093022340235372637269526262769162251519503493538665335642327338253810138093355074323403630100237092521033582894877161084703711597717690753445590317868618574463507271842014022751356922748579988821495272933216146390592889413931855784470215259005420871820984364736262945103936110766620049516934790802763227025552072785289985645002993683901952879449857802644878292903612340598374935011396353097070431187335435620949752236054225248071997990803840048794417978725117935159798349101673495471255754554731903628615450127533085118517908357262658080672236775175045992128838544256222266927561996938825189411625631417584487563207546937660073395674732834337523442880302773724272910433090385561060762553100585521455742034573424580838094860481294001144529017554454549897551697193031295623746027877793452378901121786372813862091279614352549177129817891652802684250012965294869552264853956668185097502704563929499942867950295668557071582843150098774221163698146530923924531937209712229393674756557914478662365783537996610033213730537957379 \n",
      "\n",
      "den(y[0])= 11204373562401483002633867899402423463884622549683628730099608778458999448643648278284562677124687298297085642884106269168093097206151173345978659426923553204439021739874157734229886975505094856169959196031188104788389389902376080530666050884252354581624756213866372620495595111285023597178866971644972212619915155184536210289201988455912995061151306505324089450489082381255320755347500240522720163537838181376554127510198563392773835064292306033796364269333247205287689523694626006763973768864861460543108929964847146990752058965560285286950368276441346664577570972562470513174674710094338362532778321433083301791091947759186977547265501438925081655016962416885451453489237541282205105893144093682805414314180354254076160217427146211974959092773114908045849097896868588649935929923735219688179938290517223708890124682738623437245755491051903076615800832982570874843367751961985036105457698654584851840386404175179783522776428416416621369820908400786456946390058037068670590693787629055942652165504624490351666575319922399722031129534410025080925640324376607406538537417362555882861327925333284468112064523684165558235659979951918464773066773081549395962680375628987971771136597706324631890313104872460450526505605016407408291431927646957599412022922307459990341033936257803471300535483827369843940271042258782899538084640067446688854972847809384014145298323697998971156108315683994328599990423916271460881568300476447885129321777952486902338356911337470809392404669779026839733955766058595448386512449384960180174024309650909157654548306122931006356486308431099309771944238863311155054828779834707994085288664819477411485250364678608602739443048353791455116417789626162247562494694857879963459636159271066791379049832161196832184047237301052089899862958255578551764627904919637393370626502013090284352499346586637122266423993914759546182274327987523907154010275823288104729746570705749921381336629162970293328737708067973771503953081621686383263820337331221767201484735418457793449125854249996366706055049987696501064418005552669633323535693434060480919613189209624940953309337597834017546702137175654505656636997748368914976821759392334722023398804398345874865196714678534588350809188478510144434351727679464573992406641744236276960849532485986206008055179484518534364529080545182\n"
     ]
    }
   ],
   "source": [
    "print(\"num(y[0])=\",y[0].numerator(),'\\n')\n",
    "print(\"den(y[0])=\",y[0].denominator())"
   ]
  },
  {
   "cell_type": "code",
   "execution_count": 29,
   "metadata": {},
   "outputs": [
    {
     "name": "stdout",
     "output_type": "stream",
     "text": [
      "CPU times: user 1.06 s, sys: 0 ns, total: 1.06 s\n",
      "Wall time: 1.09 s\n"
     ]
    }
   ],
   "source": [
    "Af=A.n()\n",
    "bf=b.n()\n",
    "%time yf= Af.solve_right(bf)"
   ]
  },
  {
   "cell_type": "code",
   "execution_count": 30,
   "metadata": {},
   "outputs": [
    {
     "name": "stdout",
     "output_type": "stream",
     "text": [
      "yf[0]= 5.17390261885681\n"
     ]
    },
    {
     "data": {
      "text/plain": [
       "(1.24535937118253e-10, -2.08821848701746e-12)"
      ]
     },
     "execution_count": 30,
     "metadata": {},
     "output_type": "execute_result"
    }
   ],
   "source": [
    "print(\"yf[0]=\",yf[0])\n",
    "#erreur commise par la résolution numérique\n",
    "y[0]-yf[0], (Af*yf)[0]- bf[0]"
   ]
  },
  {
   "cell_type": "code",
   "execution_count": 31,
   "metadata": {},
   "outputs": [
    {
     "data": {
      "text/html": [
       "<html><script type=\"math/tex; mode=display\">\\newcommand{\\Bold}[1]{\\mathbf{#1}}\\left(\\begin{array}{rrrrrrrrrrrrrrrrrrrr}\n",
       "1 & \\frac{1}{2} & \\frac{1}{3} & \\frac{1}{4} & \\frac{1}{5} & \\frac{1}{6} & \\frac{1}{7} & \\frac{1}{8} & \\frac{1}{9} & \\frac{1}{10} & \\frac{1}{11} & \\frac{1}{12} & \\frac{1}{13} & \\frac{1}{14} & \\frac{1}{15} & \\frac{1}{16} & \\frac{1}{17} & \\frac{1}{18} & \\frac{1}{19} & \\frac{1}{20} \\\\\n",
       "\\frac{1}{2} & \\frac{1}{3} & \\frac{1}{4} & \\frac{1}{5} & \\frac{1}{6} & \\frac{1}{7} & \\frac{1}{8} & \\frac{1}{9} & \\frac{1}{10} & \\frac{1}{11} & \\frac{1}{12} & \\frac{1}{13} & \\frac{1}{14} & \\frac{1}{15} & \\frac{1}{16} & \\frac{1}{17} & \\frac{1}{18} & \\frac{1}{19} & \\frac{1}{20} & \\frac{1}{21} \\\\\n",
       "\\frac{1}{3} & \\frac{1}{4} & \\frac{1}{5} & \\frac{1}{6} & \\frac{1}{7} & \\frac{1}{8} & \\frac{1}{9} & \\frac{1}{10} & \\frac{1}{11} & \\frac{1}{12} & \\frac{1}{13} & \\frac{1}{14} & \\frac{1}{15} & \\frac{1}{16} & \\frac{1}{17} & \\frac{1}{18} & \\frac{1}{19} & \\frac{1}{20} & \\frac{1}{21} & \\frac{1}{22} \\\\\n",
       "\\frac{1}{4} & \\frac{1}{5} & \\frac{1}{6} & \\frac{1}{7} & \\frac{1}{8} & \\frac{1}{9} & \\frac{1}{10} & \\frac{1}{11} & \\frac{1}{12} & \\frac{1}{13} & \\frac{1}{14} & \\frac{1}{15} & \\frac{1}{16} & \\frac{1}{17} & \\frac{1}{18} & \\frac{1}{19} & \\frac{1}{20} & \\frac{1}{21} & \\frac{1}{22} & \\frac{1}{23} \\\\\n",
       "\\frac{1}{5} & \\frac{1}{6} & \\frac{1}{7} & \\frac{1}{8} & \\frac{1}{9} & \\frac{1}{10} & \\frac{1}{11} & \\frac{1}{12} & \\frac{1}{13} & \\frac{1}{14} & \\frac{1}{15} & \\frac{1}{16} & \\frac{1}{17} & \\frac{1}{18} & \\frac{1}{19} & \\frac{1}{20} & \\frac{1}{21} & \\frac{1}{22} & \\frac{1}{23} & \\frac{1}{24} \\\\\n",
       "\\frac{1}{6} & \\frac{1}{7} & \\frac{1}{8} & \\frac{1}{9} & \\frac{1}{10} & \\frac{1}{11} & \\frac{1}{12} & \\frac{1}{13} & \\frac{1}{14} & \\frac{1}{15} & \\frac{1}{16} & \\frac{1}{17} & \\frac{1}{18} & \\frac{1}{19} & \\frac{1}{20} & \\frac{1}{21} & \\frac{1}{22} & \\frac{1}{23} & \\frac{1}{24} & \\frac{1}{25} \\\\\n",
       "\\frac{1}{7} & \\frac{1}{8} & \\frac{1}{9} & \\frac{1}{10} & \\frac{1}{11} & \\frac{1}{12} & \\frac{1}{13} & \\frac{1}{14} & \\frac{1}{15} & \\frac{1}{16} & \\frac{1}{17} & \\frac{1}{18} & \\frac{1}{19} & \\frac{1}{20} & \\frac{1}{21} & \\frac{1}{22} & \\frac{1}{23} & \\frac{1}{24} & \\frac{1}{25} & \\frac{1}{26} \\\\\n",
       "\\frac{1}{8} & \\frac{1}{9} & \\frac{1}{10} & \\frac{1}{11} & \\frac{1}{12} & \\frac{1}{13} & \\frac{1}{14} & \\frac{1}{15} & \\frac{1}{16} & \\frac{1}{17} & \\frac{1}{18} & \\frac{1}{19} & \\frac{1}{20} & \\frac{1}{21} & \\frac{1}{22} & \\frac{1}{23} & \\frac{1}{24} & \\frac{1}{25} & \\frac{1}{26} & \\frac{1}{27} \\\\\n",
       "\\frac{1}{9} & \\frac{1}{10} & \\frac{1}{11} & \\frac{1}{12} & \\frac{1}{13} & \\frac{1}{14} & \\frac{1}{15} & \\frac{1}{16} & \\frac{1}{17} & \\frac{1}{18} & \\frac{1}{19} & \\frac{1}{20} & \\frac{1}{21} & \\frac{1}{22} & \\frac{1}{23} & \\frac{1}{24} & \\frac{1}{25} & \\frac{1}{26} & \\frac{1}{27} & \\frac{1}{28} \\\\\n",
       "\\frac{1}{10} & \\frac{1}{11} & \\frac{1}{12} & \\frac{1}{13} & \\frac{1}{14} & \\frac{1}{15} & \\frac{1}{16} & \\frac{1}{17} & \\frac{1}{18} & \\frac{1}{19} & \\frac{1}{20} & \\frac{1}{21} & \\frac{1}{22} & \\frac{1}{23} & \\frac{1}{24} & \\frac{1}{25} & \\frac{1}{26} & \\frac{1}{27} & \\frac{1}{28} & \\frac{1}{29} \\\\\n",
       "\\frac{1}{11} & \\frac{1}{12} & \\frac{1}{13} & \\frac{1}{14} & \\frac{1}{15} & \\frac{1}{16} & \\frac{1}{17} & \\frac{1}{18} & \\frac{1}{19} & \\frac{1}{20} & \\frac{1}{21} & \\frac{1}{22} & \\frac{1}{23} & \\frac{1}{24} & \\frac{1}{25} & \\frac{1}{26} & \\frac{1}{27} & \\frac{1}{28} & \\frac{1}{29} & \\frac{1}{30} \\\\\n",
       "\\frac{1}{12} & \\frac{1}{13} & \\frac{1}{14} & \\frac{1}{15} & \\frac{1}{16} & \\frac{1}{17} & \\frac{1}{18} & \\frac{1}{19} & \\frac{1}{20} & \\frac{1}{21} & \\frac{1}{22} & \\frac{1}{23} & \\frac{1}{24} & \\frac{1}{25} & \\frac{1}{26} & \\frac{1}{27} & \\frac{1}{28} & \\frac{1}{29} & \\frac{1}{30} & \\frac{1}{31} \\\\\n",
       "\\frac{1}{13} & \\frac{1}{14} & \\frac{1}{15} & \\frac{1}{16} & \\frac{1}{17} & \\frac{1}{18} & \\frac{1}{19} & \\frac{1}{20} & \\frac{1}{21} & \\frac{1}{22} & \\frac{1}{23} & \\frac{1}{24} & \\frac{1}{25} & \\frac{1}{26} & \\frac{1}{27} & \\frac{1}{28} & \\frac{1}{29} & \\frac{1}{30} & \\frac{1}{31} & \\frac{1}{32} \\\\\n",
       "\\frac{1}{14} & \\frac{1}{15} & \\frac{1}{16} & \\frac{1}{17} & \\frac{1}{18} & \\frac{1}{19} & \\frac{1}{20} & \\frac{1}{21} & \\frac{1}{22} & \\frac{1}{23} & \\frac{1}{24} & \\frac{1}{25} & \\frac{1}{26} & \\frac{1}{27} & \\frac{1}{28} & \\frac{1}{29} & \\frac{1}{30} & \\frac{1}{31} & \\frac{1}{32} & \\frac{1}{33} \\\\\n",
       "\\frac{1}{15} & \\frac{1}{16} & \\frac{1}{17} & \\frac{1}{18} & \\frac{1}{19} & \\frac{1}{20} & \\frac{1}{21} & \\frac{1}{22} & \\frac{1}{23} & \\frac{1}{24} & \\frac{1}{25} & \\frac{1}{26} & \\frac{1}{27} & \\frac{1}{28} & \\frac{1}{29} & \\frac{1}{30} & \\frac{1}{31} & \\frac{1}{32} & \\frac{1}{33} & \\frac{1}{34} \\\\\n",
       "\\frac{1}{16} & \\frac{1}{17} & \\frac{1}{18} & \\frac{1}{19} & \\frac{1}{20} & \\frac{1}{21} & \\frac{1}{22} & \\frac{1}{23} & \\frac{1}{24} & \\frac{1}{25} & \\frac{1}{26} & \\frac{1}{27} & \\frac{1}{28} & \\frac{1}{29} & \\frac{1}{30} & \\frac{1}{31} & \\frac{1}{32} & \\frac{1}{33} & \\frac{1}{34} & \\frac{1}{35} \\\\\n",
       "\\frac{1}{17} & \\frac{1}{18} & \\frac{1}{19} & \\frac{1}{20} & \\frac{1}{21} & \\frac{1}{22} & \\frac{1}{23} & \\frac{1}{24} & \\frac{1}{25} & \\frac{1}{26} & \\frac{1}{27} & \\frac{1}{28} & \\frac{1}{29} & \\frac{1}{30} & \\frac{1}{31} & \\frac{1}{32} & \\frac{1}{33} & \\frac{1}{34} & \\frac{1}{35} & \\frac{1}{36} \\\\\n",
       "\\frac{1}{18} & \\frac{1}{19} & \\frac{1}{20} & \\frac{1}{21} & \\frac{1}{22} & \\frac{1}{23} & \\frac{1}{24} & \\frac{1}{25} & \\frac{1}{26} & \\frac{1}{27} & \\frac{1}{28} & \\frac{1}{29} & \\frac{1}{30} & \\frac{1}{31} & \\frac{1}{32} & \\frac{1}{33} & \\frac{1}{34} & \\frac{1}{35} & \\frac{1}{36} & \\frac{1}{37} \\\\\n",
       "\\frac{1}{19} & \\frac{1}{20} & \\frac{1}{21} & \\frac{1}{22} & \\frac{1}{23} & \\frac{1}{24} & \\frac{1}{25} & \\frac{1}{26} & \\frac{1}{27} & \\frac{1}{28} & \\frac{1}{29} & \\frac{1}{30} & \\frac{1}{31} & \\frac{1}{32} & \\frac{1}{33} & \\frac{1}{34} & \\frac{1}{35} & \\frac{1}{36} & \\frac{1}{37} & \\frac{1}{38} \\\\\n",
       "\\frac{1}{20} & \\frac{1}{21} & \\frac{1}{22} & \\frac{1}{23} & \\frac{1}{24} & \\frac{1}{25} & \\frac{1}{26} & \\frac{1}{27} & \\frac{1}{28} & \\frac{1}{29} & \\frac{1}{30} & \\frac{1}{31} & \\frac{1}{32} & \\frac{1}{33} & \\frac{1}{34} & \\frac{1}{35} & \\frac{1}{36} & \\frac{1}{37} & \\frac{1}{38} & \\frac{1}{39}\n",
       "\\end{array}\\right)</script></html>"
      ],
      "text/latex": [
       "$$\\newcommand{\\Bold}[1]{\\mathbf{#1}}\\left(\\begin{array}{rrrrrrrrrrrrrrrrrrrr}\n",
       "1 & \\frac{1}{2} & \\frac{1}{3} & \\frac{1}{4} & \\frac{1}{5} & \\frac{1}{6} & \\frac{1}{7} & \\frac{1}{8} & \\frac{1}{9} & \\frac{1}{10} & \\frac{1}{11} & \\frac{1}{12} & \\frac{1}{13} & \\frac{1}{14} & \\frac{1}{15} & \\frac{1}{16} & \\frac{1}{17} & \\frac{1}{18} & \\frac{1}{19} & \\frac{1}{20} \\\\\n",
       "\\frac{1}{2} & \\frac{1}{3} & \\frac{1}{4} & \\frac{1}{5} & \\frac{1}{6} & \\frac{1}{7} & \\frac{1}{8} & \\frac{1}{9} & \\frac{1}{10} & \\frac{1}{11} & \\frac{1}{12} & \\frac{1}{13} & \\frac{1}{14} & \\frac{1}{15} & \\frac{1}{16} & \\frac{1}{17} & \\frac{1}{18} & \\frac{1}{19} & \\frac{1}{20} & \\frac{1}{21} \\\\\n",
       "\\frac{1}{3} & \\frac{1}{4} & \\frac{1}{5} & \\frac{1}{6} & \\frac{1}{7} & \\frac{1}{8} & \\frac{1}{9} & \\frac{1}{10} & \\frac{1}{11} & \\frac{1}{12} & \\frac{1}{13} & \\frac{1}{14} & \\frac{1}{15} & \\frac{1}{16} & \\frac{1}{17} & \\frac{1}{18} & \\frac{1}{19} & \\frac{1}{20} & \\frac{1}{21} & \\frac{1}{22} \\\\\n",
       "\\frac{1}{4} & \\frac{1}{5} & \\frac{1}{6} & \\frac{1}{7} & \\frac{1}{8} & \\frac{1}{9} & \\frac{1}{10} & \\frac{1}{11} & \\frac{1}{12} & \\frac{1}{13} & \\frac{1}{14} & \\frac{1}{15} & \\frac{1}{16} & \\frac{1}{17} & \\frac{1}{18} & \\frac{1}{19} & \\frac{1}{20} & \\frac{1}{21} & \\frac{1}{22} & \\frac{1}{23} \\\\\n",
       "\\frac{1}{5} & \\frac{1}{6} & \\frac{1}{7} & \\frac{1}{8} & \\frac{1}{9} & \\frac{1}{10} & \\frac{1}{11} & \\frac{1}{12} & \\frac{1}{13} & \\frac{1}{14} & \\frac{1}{15} & \\frac{1}{16} & \\frac{1}{17} & \\frac{1}{18} & \\frac{1}{19} & \\frac{1}{20} & \\frac{1}{21} & \\frac{1}{22} & \\frac{1}{23} & \\frac{1}{24} \\\\\n",
       "\\frac{1}{6} & \\frac{1}{7} & \\frac{1}{8} & \\frac{1}{9} & \\frac{1}{10} & \\frac{1}{11} & \\frac{1}{12} & \\frac{1}{13} & \\frac{1}{14} & \\frac{1}{15} & \\frac{1}{16} & \\frac{1}{17} & \\frac{1}{18} & \\frac{1}{19} & \\frac{1}{20} & \\frac{1}{21} & \\frac{1}{22} & \\frac{1}{23} & \\frac{1}{24} & \\frac{1}{25} \\\\\n",
       "\\frac{1}{7} & \\frac{1}{8} & \\frac{1}{9} & \\frac{1}{10} & \\frac{1}{11} & \\frac{1}{12} & \\frac{1}{13} & \\frac{1}{14} & \\frac{1}{15} & \\frac{1}{16} & \\frac{1}{17} & \\frac{1}{18} & \\frac{1}{19} & \\frac{1}{20} & \\frac{1}{21} & \\frac{1}{22} & \\frac{1}{23} & \\frac{1}{24} & \\frac{1}{25} & \\frac{1}{26} \\\\\n",
       "\\frac{1}{8} & \\frac{1}{9} & \\frac{1}{10} & \\frac{1}{11} & \\frac{1}{12} & \\frac{1}{13} & \\frac{1}{14} & \\frac{1}{15} & \\frac{1}{16} & \\frac{1}{17} & \\frac{1}{18} & \\frac{1}{19} & \\frac{1}{20} & \\frac{1}{21} & \\frac{1}{22} & \\frac{1}{23} & \\frac{1}{24} & \\frac{1}{25} & \\frac{1}{26} & \\frac{1}{27} \\\\\n",
       "\\frac{1}{9} & \\frac{1}{10} & \\frac{1}{11} & \\frac{1}{12} & \\frac{1}{13} & \\frac{1}{14} & \\frac{1}{15} & \\frac{1}{16} & \\frac{1}{17} & \\frac{1}{18} & \\frac{1}{19} & \\frac{1}{20} & \\frac{1}{21} & \\frac{1}{22} & \\frac{1}{23} & \\frac{1}{24} & \\frac{1}{25} & \\frac{1}{26} & \\frac{1}{27} & \\frac{1}{28} \\\\\n",
       "\\frac{1}{10} & \\frac{1}{11} & \\frac{1}{12} & \\frac{1}{13} & \\frac{1}{14} & \\frac{1}{15} & \\frac{1}{16} & \\frac{1}{17} & \\frac{1}{18} & \\frac{1}{19} & \\frac{1}{20} & \\frac{1}{21} & \\frac{1}{22} & \\frac{1}{23} & \\frac{1}{24} & \\frac{1}{25} & \\frac{1}{26} & \\frac{1}{27} & \\frac{1}{28} & \\frac{1}{29} \\\\\n",
       "\\frac{1}{11} & \\frac{1}{12} & \\frac{1}{13} & \\frac{1}{14} & \\frac{1}{15} & \\frac{1}{16} & \\frac{1}{17} & \\frac{1}{18} & \\frac{1}{19} & \\frac{1}{20} & \\frac{1}{21} & \\frac{1}{22} & \\frac{1}{23} & \\frac{1}{24} & \\frac{1}{25} & \\frac{1}{26} & \\frac{1}{27} & \\frac{1}{28} & \\frac{1}{29} & \\frac{1}{30} \\\\\n",
       "\\frac{1}{12} & \\frac{1}{13} & \\frac{1}{14} & \\frac{1}{15} & \\frac{1}{16} & \\frac{1}{17} & \\frac{1}{18} & \\frac{1}{19} & \\frac{1}{20} & \\frac{1}{21} & \\frac{1}{22} & \\frac{1}{23} & \\frac{1}{24} & \\frac{1}{25} & \\frac{1}{26} & \\frac{1}{27} & \\frac{1}{28} & \\frac{1}{29} & \\frac{1}{30} & \\frac{1}{31} \\\\\n",
       "\\frac{1}{13} & \\frac{1}{14} & \\frac{1}{15} & \\frac{1}{16} & \\frac{1}{17} & \\frac{1}{18} & \\frac{1}{19} & \\frac{1}{20} & \\frac{1}{21} & \\frac{1}{22} & \\frac{1}{23} & \\frac{1}{24} & \\frac{1}{25} & \\frac{1}{26} & \\frac{1}{27} & \\frac{1}{28} & \\frac{1}{29} & \\frac{1}{30} & \\frac{1}{31} & \\frac{1}{32} \\\\\n",
       "\\frac{1}{14} & \\frac{1}{15} & \\frac{1}{16} & \\frac{1}{17} & \\frac{1}{18} & \\frac{1}{19} & \\frac{1}{20} & \\frac{1}{21} & \\frac{1}{22} & \\frac{1}{23} & \\frac{1}{24} & \\frac{1}{25} & \\frac{1}{26} & \\frac{1}{27} & \\frac{1}{28} & \\frac{1}{29} & \\frac{1}{30} & \\frac{1}{31} & \\frac{1}{32} & \\frac{1}{33} \\\\\n",
       "\\frac{1}{15} & \\frac{1}{16} & \\frac{1}{17} & \\frac{1}{18} & \\frac{1}{19} & \\frac{1}{20} & \\frac{1}{21} & \\frac{1}{22} & \\frac{1}{23} & \\frac{1}{24} & \\frac{1}{25} & \\frac{1}{26} & \\frac{1}{27} & \\frac{1}{28} & \\frac{1}{29} & \\frac{1}{30} & \\frac{1}{31} & \\frac{1}{32} & \\frac{1}{33} & \\frac{1}{34} \\\\\n",
       "\\frac{1}{16} & \\frac{1}{17} & \\frac{1}{18} & \\frac{1}{19} & \\frac{1}{20} & \\frac{1}{21} & \\frac{1}{22} & \\frac{1}{23} & \\frac{1}{24} & \\frac{1}{25} & \\frac{1}{26} & \\frac{1}{27} & \\frac{1}{28} & \\frac{1}{29} & \\frac{1}{30} & \\frac{1}{31} & \\frac{1}{32} & \\frac{1}{33} & \\frac{1}{34} & \\frac{1}{35} \\\\\n",
       "\\frac{1}{17} & \\frac{1}{18} & \\frac{1}{19} & \\frac{1}{20} & \\frac{1}{21} & \\frac{1}{22} & \\frac{1}{23} & \\frac{1}{24} & \\frac{1}{25} & \\frac{1}{26} & \\frac{1}{27} & \\frac{1}{28} & \\frac{1}{29} & \\frac{1}{30} & \\frac{1}{31} & \\frac{1}{32} & \\frac{1}{33} & \\frac{1}{34} & \\frac{1}{35} & \\frac{1}{36} \\\\\n",
       "\\frac{1}{18} & \\frac{1}{19} & \\frac{1}{20} & \\frac{1}{21} & \\frac{1}{22} & \\frac{1}{23} & \\frac{1}{24} & \\frac{1}{25} & \\frac{1}{26} & \\frac{1}{27} & \\frac{1}{28} & \\frac{1}{29} & \\frac{1}{30} & \\frac{1}{31} & \\frac{1}{32} & \\frac{1}{33} & \\frac{1}{34} & \\frac{1}{35} & \\frac{1}{36} & \\frac{1}{37} \\\\\n",
       "\\frac{1}{19} & \\frac{1}{20} & \\frac{1}{21} & \\frac{1}{22} & \\frac{1}{23} & \\frac{1}{24} & \\frac{1}{25} & \\frac{1}{26} & \\frac{1}{27} & \\frac{1}{28} & \\frac{1}{29} & \\frac{1}{30} & \\frac{1}{31} & \\frac{1}{32} & \\frac{1}{33} & \\frac{1}{34} & \\frac{1}{35} & \\frac{1}{36} & \\frac{1}{37} & \\frac{1}{38} \\\\\n",
       "\\frac{1}{20} & \\frac{1}{21} & \\frac{1}{22} & \\frac{1}{23} & \\frac{1}{24} & \\frac{1}{25} & \\frac{1}{26} & \\frac{1}{27} & \\frac{1}{28} & \\frac{1}{29} & \\frac{1}{30} & \\frac{1}{31} & \\frac{1}{32} & \\frac{1}{33} & \\frac{1}{34} & \\frac{1}{35} & \\frac{1}{36} & \\frac{1}{37} & \\frac{1}{38} & \\frac{1}{39}\n",
       "\\end{array}\\right)$$"
      ],
      "text/plain": [
       "20 x 20 dense matrix over Rational Field (use the '.str()' method to see the entries)"
      ]
     },
     "metadata": {},
     "output_type": "display_data"
    },
    {
     "data": {
      "text/html": [
       "<html><script type=\"math/tex; mode=display\">\\newcommand{\\Bold}[1]{\\mathbf{#1}}\\left(-1,\\,-1,\\,-1,\\,-1,\\,2,\\,-1,\\,0,\\,-1,\\,0,\\,0,\\,0,\\,3,\\,0,\\,10,\\,-1,\\,13,\\,-1,\\,11,\\,1,\\,3\\right)</script></html>"
      ],
      "text/latex": [
       "$$\\newcommand{\\Bold}[1]{\\mathbf{#1}}\\left(-1,\\,-1,\\,-1,\\,-1,\\,2,\\,-1,\\,0,\\,-1,\\,0,\\,0,\\,0,\\,3,\\,0,\\,10,\\,-1,\\,13,\\,-1,\\,11,\\,1,\\,3\\right)$$"
      ],
      "text/plain": [
       "(-1, -1, -1, -1, 2, -1, 0, -1, 0, 0, 0, 3, 0, 10, -1, 13, -1, 11, 1, 3)"
      ]
     },
     "metadata": {},
     "output_type": "display_data"
    }
   ],
   "source": [
    "N=20\n",
    "A=matrix(N,N,lambda i,j : 1/(i+j+1))\n",
    "b=vector([ZZ.random_element() for i in range(N)])\n",
    "show(A)\n",
    "show(b)"
   ]
  },
  {
   "cell_type": "code",
   "execution_count": 32,
   "metadata": {},
   "outputs": [
    {
     "name": "stdout",
     "output_type": "stream",
     "text": [
      "CPU times: user 0 ns, sys: 0 ns, total: 0 ns\n",
      "Wall time: 3.93 ms\n",
      "CPU times: user 16 ms, sys: 0 ns, total: 16 ms\n",
      "Wall time: 28.6 ms\n"
     ]
    }
   ],
   "source": [
    "Af=A.n()\n",
    "bf=b.n()\n",
    "%time y = A.solve_right(b)\n",
    "%time yf= Af.solve_right(bf)"
   ]
  },
  {
   "cell_type": "code",
   "execution_count": 33,
   "metadata": {
    "scrolled": true
   },
   "outputs": [
    {
     "name": "stdout",
     "output_type": "stream",
     "text": [
      "yf[0]= 5.87774940485942e10\n"
     ]
    },
    {
     "data": {
      "text/plain": [
       "(2.57443200000000e6, -1.00000000000000)"
      ]
     },
     "execution_count": 33,
     "metadata": {},
     "output_type": "execute_result"
    }
   ],
   "source": [
    "### le résultat avec les flottants est complètement faux\n",
    "print(\"yf[0]=\",yf[0])\n",
    "(Af*yf)[0], bf[0]"
   ]
  },
  {
   "cell_type": "code",
   "execution_count": 34,
   "metadata": {},
   "outputs": [
    {
     "name": "stdout",
     "output_type": "stream",
     "text": [
      "y[0]= -10426097185622140\n"
     ]
    },
    {
     "data": {
      "text/plain": [
       "(-1, -1, True)"
      ]
     },
     "execution_count": 34,
     "metadata": {},
     "output_type": "execute_result"
    }
   ],
   "source": [
    "### le résultat avec les rationnels est exact\n",
    "print(\"y[0]=\",y[0])\n",
    "(A*y)[0],b[0],A*y==b"
   ]
  },
  {
   "cell_type": "markdown",
   "metadata": {},
   "source": [
    "**A RETENIR**\n",
    "- la fonction `solve` est une méthode de résolution symbolique\n",
    "- les calculs avec les flottants peuvent être plus rapides mais aussi faux (surtout en algèbre linéaire)\n",
    "- les calculs avec les rationnels entrainent un grossissement des données mais le résultat est toujours correct"
   ]
  },
  {
   "cell_type": "markdown",
   "metadata": {},
   "source": [
    "## Limite du calcul symbolique"
   ]
  },
  {
   "cell_type": "code",
   "execution_count": 35,
   "metadata": {},
   "outputs": [
    {
     "data": {
      "text/html": [
       "<html><script type=\"math/tex; mode=display\">\\newcommand{\\Bold}[1]{\\mathbf{#1}}a c + b c</script></html>"
      ],
      "text/latex": [
       "$$\\newcommand{\\Bold}[1]{\\mathbf{#1}}a c + b c$$"
      ],
      "text/plain": [
       "a*c + b*c"
      ]
     },
     "metadata": {},
     "output_type": "display_data"
    },
    {
     "data": {
      "text/html": [
       "<html><script type=\"math/tex; mode=display\">\\newcommand{\\Bold}[1]{\\mathbf{#1}}{\\left(a + b\\right)} c</script></html>"
      ],
      "text/latex": [
       "$$\\newcommand{\\Bold}[1]{\\mathbf{#1}}{\\left(a + b\\right)} c$$"
      ],
      "text/plain": [
       "(a + b)*c"
      ]
     },
     "metadata": {},
     "output_type": "display_data"
    },
    {
     "data": {
      "text/html": [
       "<html><script type=\"math/tex; mode=display\">\\newcommand{\\Bold}[1]{\\mathbf{#1}}{\\left(a + b\\right)} c = {\\left(a + b\\right)} c</script></html>"
      ],
      "text/latex": [
       "$$\\newcommand{\\Bold}[1]{\\mathbf{#1}}{\\left(a + b\\right)} c = {\\left(a + b\\right)} c$$"
      ],
      "text/plain": [
       "(a + b)*c == (a + b)*c"
      ]
     },
     "metadata": {},
     "output_type": "display_data"
    },
    {
     "data": {
      "text/html": [
       "<html><script type=\"math/tex; mode=display\">\\newcommand{\\Bold}[1]{\\mathbf{#1}}a c + b c = a c + b c</script></html>"
      ],
      "text/latex": [
       "$$\\newcommand{\\Bold}[1]{\\mathbf{#1}}a c + b c = a c + b c$$"
      ],
      "text/plain": [
       "a*c + b*c == a*c + b*c"
      ]
     },
     "metadata": {},
     "output_type": "display_data"
    },
    {
     "data": {
      "text/plain": [
       "True"
      ]
     },
     "execution_count": 35,
     "metadata": {},
     "output_type": "execute_result"
    }
   ],
   "source": [
    "var('a b c')\n",
    "e1=a*c+b*c\n",
    "e2=(a+b)*c\n",
    "e1.show()\n",
    "e2.show()\n",
    "(e2 == e1.collect(c)).show()\n",
    "(e1 == e2.expand()).show()\n",
    "bool(e1==e2)"
   ]
  },
  {
   "cell_type": "code",
   "execution_count": 36,
   "metadata": {},
   "outputs": [
    {
     "data": {
      "text/html": [
       "<html><script type=\"math/tex; mode=display\">\\newcommand{\\Bold}[1]{\\mathbf{#1}}{\\left(a - b\\right)}^{2} - a^{2} + 2 \\, a b - b^{2}</script></html>"
      ],
      "text/latex": [
       "$$\\newcommand{\\Bold}[1]{\\mathbf{#1}}{\\left(a - b\\right)}^{2} - a^{2} + 2 \\, a b - b^{2}$$"
      ],
      "text/plain": [
       "(a - b)^2 - a^2 + 2*a*b - b^2"
      ]
     },
     "metadata": {},
     "output_type": "display_data"
    },
    {
     "data": {
      "text/plain": [
       "True"
      ]
     },
     "execution_count": 36,
     "metadata": {},
     "output_type": "execute_result"
    }
   ],
   "source": [
    "e=(a-b)^2-a^2+2*a*b-b^2\n",
    "e.show()\n",
    "bool(e==0)"
   ]
  },
  {
   "cell_type": "code",
   "execution_count": 37,
   "metadata": {},
   "outputs": [
    {
     "data": {
      "text/plain": [
       "(cos(x)^2 + sin(x)^2, 1)"
      ]
     },
     "execution_count": 37,
     "metadata": {},
     "output_type": "execute_result"
    }
   ],
   "source": [
    "var('x')\n",
    "e= cos(x)^2+sin(x)^2\n",
    "e, e.simplify_trig()"
   ]
  },
  {
   "cell_type": "code",
   "execution_count": 38,
   "metadata": {},
   "outputs": [
    {
     "data": {
      "text/plain": [
       "(False, False, True)"
      ]
     },
     "execution_count": 38,
     "metadata": {},
     "output_type": "execute_result"
    }
   ],
   "source": [
    "e=sqrt(x^2)\n",
    "bool(x==e), bool(x==e.simplify_full()),bool(x==e.canonicalize_radical())"
   ]
  },
  {
   "cell_type": "markdown",
   "metadata": {},
   "source": [
    "### Explosion combinatoire des symboles"
   ]
  },
  {
   "cell_type": "code",
   "execution_count": 39,
   "metadata": {},
   "outputs": [
    {
     "data": {
      "text/html": [
       "<html><script type=\"math/tex; mode=display\">\\newcommand{\\Bold}[1]{\\mathbf{#1}}\\verb|A=| \\left(\\begin{array}{rr}\n",
       "\\cos\\left(x\\right) & \\sin\\left(x\\right) \\\\\n",
       "-\\sin\\left(x\\right) & \\cos\\left(x\\right)\n",
       "\\end{array}\\right) \\phantom{\\verb!xx!}\\verb|det(A)=| \\cos\\left(x\\right)^{2} + \\sin\\left(x\\right)^{2}</script></html>"
      ],
      "text/latex": [
       "$$\\newcommand{\\Bold}[1]{\\mathbf{#1}}\\verb|A=| \\left(\\begin{array}{rr}\n",
       "\\cos\\left(x\\right) & \\sin\\left(x\\right) \\\\\n",
       "-\\sin\\left(x\\right) & \\cos\\left(x\\right)\n",
       "\\end{array}\\right) \\phantom{\\verb!xx!}\\verb|det(A)=| \\cos\\left(x\\right)^{2} + \\sin\\left(x\\right)^{2}$$"
      ],
      "text/plain": [
       "'A=' [ cos(x)  sin(x)]\n",
       "[-sin(x)  cos(x)] '  det(A)=' cos(x)^2 + sin(x)^2"
      ]
     },
     "metadata": {},
     "output_type": "display_data"
    }
   ],
   "source": [
    "var('x')\n",
    "A=Matrix(2,2,[[cos(x),sin(x)],[-sin(x),cos(x)]])\n",
    "show(\"A=\",A,\"  det(A)=\",A.determinant())"
   ]
  },
  {
   "cell_type": "code",
   "execution_count": 40,
   "metadata": {},
   "outputs": [
    {
     "name": "stdout",
     "output_type": "stream",
     "text": [
      "d= 16*(16*(256*(16*(cos(x)^2 - sin(x)^2)^2*cos(x)^2*sin(x)^2 - (4*cos(x)^2*sin(x)^2 - (cos(x)^2 - sin(x)^2)^2)^2)^2*(4*cos(x)^2*sin(x)^2 - (cos(x)^2 - sin(x)^2)^2)^2*(cos(x)^2 - sin(x)^2)^2*cos(x)^2*sin(x)^2 - (64*(4*cos(x)^2*sin(x)^2 - (cos(x)^2 - sin(x)^2)^2)^2*(cos(x)^2 - sin(x)^2)^2*cos(x)^2*sin(x)^2 - (16*(cos(x)^2 - sin(x)^2)^2*cos(x)^2*sin(x)^2 - (4*cos(x)^2*sin(x)^2 - (cos(x)^2 - sin(x)^2)^2)^2)^2)^2)*(128*(64*(4*cos(x)^2*sin(x)^2 - (cos(x)^2 - sin(x)^2)^2)^2*(cos(x)^2 - sin(x)^2)^2*cos(x)^2*sin(x)^2 - (16*(cos(x)^2 - sin(x)^2)^2*cos(x)^2*sin(x)^2 - (4*cos(x)^2*sin(x)^2 - (cos(x)^2 - sin(x)^2)^2)^2)^2)*(16*(cos(x)^2 - sin(x)^2)^2*cos(x)^2*sin(x)^2 - (4*cos(x)^2*sin(x)^2 - (cos(x)^2 - sin(x)^2)^2)^2)*(4*cos(x)^2*sin(x)^2 - (cos(x)^2 - sin(x)^2)^2)*(cos(x)^2 - sin(x)^2)^2*cos(x)^2*sin(x)^2 + (256*(16*(cos(x)^2 - sin(x)^2)^2*cos(x)^2*sin(x)^2 - (4*cos(x)^2*sin(x)^2 - (cos(x)^2 - sin(x)^2)^2)^2)^2*(4*cos(x)^2*sin(x)^2 - (cos(x)^2 - sin(x)^2)^2)^2*(cos(x)^2 - sin(x)^2)^2*cos(x)^2*sin(x)^2 - (64*(4*cos(x)^2*sin(x)^2 - (cos(x)^2 - sin(x)^2)^2)^2*(cos(x)^2 - sin(x)^2)^2*cos(x)^2*sin(x)^2 - (16*(cos(x)^2 - sin(x)^2)^2*cos(x)^2*sin(x)^2 - (4*cos(x)^2*sin(x)^2 - (cos(x)^2 - sin(x)^2)^2)^2)^2)^2)*(4*cos(x)^2*sin(x)^2 - (cos(x)^2 - sin(x)^2)^2))*(64*(4*cos(x)^2*sin(x)^2 - (cos(x)^2 - sin(x)^2)^2)^2*(cos(x)^2 - sin(x)^2)^2*cos(x)^2*sin(x)^2 - (16*(cos(x)^2 - sin(x)^2)^2*cos(x)^2*sin(x)^2 - (4*cos(x)^2*sin(x)^2 - (cos(x)^2 - sin(x)^2)^2)^2)^2)*(16*(cos(x)^2 - sin(x)^2)^2*cos(x)^2*sin(x)^2 - (4*cos(x)^2*sin(x)^2 - (cos(x)^2 - sin(x)^2)^2)^2)*(4*cos(x)^2*sin(x)^2 - (cos(x)^2 - sin(x)^2)^2)*(cos(x)^2 - sin(x)^2)*cos(x)*sin(x) - (1024*(64*(4*cos(x)^2*sin(x)^2 - (cos(x)^2 - sin(x)^2)^2)^2*(cos(x)^2 - sin(x)^2)^2*cos(x)^2*sin(x)^2 - (16*(cos(x)^2 - sin(x)^2)^2*cos(x)^2*sin(x)^2 - (4*cos(x)^2*sin(x)^2 - (cos(x)^2 - sin(x)^2)^2)^2)^2)^2*(16*(cos(x)^2 - sin(x)^2)^2*cos(x)^2*sin(x)^2 - (4*cos(x)^2*sin(x)^2 - (cos(x)^2 - sin(x)^2)^2)^2)^2*(4*cos(x)^2*sin(x)^2 - (cos(x)^2 - sin(x)^2)^2)^2*(cos(x)^2 - sin(x)^2)^2*cos(x)^2*sin(x)^2 - (256*(16*(cos(x)^2 - sin(x)^2)^2*cos(x)^2*sin(x)^2 - (4*cos(x)^2*sin(x)^2 - (cos(x)^2 - sin(x)^2)^2)^2)^2*(4*cos(x)^2*sin(x)^2 - (cos(x)^2 - sin(x)^2)^2)^2*(cos(x)^2 - sin(x)^2)^2*cos(x)^2*sin(x)^2 - (64*(4*cos(x)^2*sin(x)^2 - (cos(x)^2 - sin(x)^2)^2)^2*(cos(x)^2 - sin(x)^2)^2*cos(x)^2*sin(x)^2 - (16*(cos(x)^2 - sin(x)^2)^2*cos(x)^2*sin(x)^2 - (4*cos(x)^2*sin(x)^2 - (cos(x)^2 - sin(x)^2)^2)^2)^2)^2)^2)*(8*(64*(4*cos(x)^2*sin(x)^2 - (cos(x)^2 - sin(x)^2)^2)^2*(cos(x)^2 - sin(x)^2)^2*cos(x)^2*sin(x)^2 - (16*(cos(x)^2 - sin(x)^2)^2*cos(x)^2*sin(x)^2 - (4*cos(x)^2*sin(x)^2 - (cos(x)^2 - sin(x)^2)^2)^2)^2)*(16*(cos(x)^2 - sin(x)^2)^2*cos(x)^2*sin(x)^2 - (4*cos(x)^2*sin(x)^2 - (cos(x)^2 - sin(x)^2)^2)^2)*(4*cos(x)^2*sin(x)^2 - (cos(x)^2 - sin(x)^2)^2)^2*(cos(x)^2 - sin(x)^2)*cos(x)*sin(x) - (256*(16*(cos(x)^2 - sin(x)^2)^2*cos(x)^2*sin(x)^2 - (4*cos(x)^2*sin(x)^2 - (cos(x)^2 - sin(x)^2)^2)^2)^2*(4*cos(x)^2*sin(x)^2 - (cos(x)^2 - sin(x)^2)^2)^2*(cos(x)^2 - sin(x)^2)^2*cos(x)^2*sin(x)^2 - (64*(4*cos(x)^2*sin(x)^2 - (cos(x)^2 - sin(x)^2)^2)^2*(cos(x)^2 - sin(x)^2)^2*cos(x)^2*sin(x)^2 - (16*(cos(x)^2 - sin(x)^2)^2*cos(x)^2*sin(x)^2 - (4*cos(x)^2*sin(x)^2 - (cos(x)^2 - sin(x)^2)^2)^2)^2)^2)*(cos(x)^2 - sin(x)^2)*cos(x)*sin(x)))^2 + (256*(256*(16*(cos(x)^2 - sin(x)^2)^2*cos(x)^2*sin(x)^2 - (4*cos(x)^2*sin(x)^2 - (cos(x)^2 - sin(x)^2)^2)^2)^2*(4*cos(x)^2*sin(x)^2 - (cos(x)^2 - sin(x)^2)^2)^2*(cos(x)^2 - sin(x)^2)^2*cos(x)^2*sin(x)^2 - (64*(4*cos(x)^2*sin(x)^2 - (cos(x)^2 - sin(x)^2)^2)^2*(cos(x)^2 - sin(x)^2)^2*cos(x)^2*sin(x)^2 - (16*(cos(x)^2 - sin(x)^2)^2*cos(x)^2*sin(x)^2 - (4*cos(x)^2*sin(x)^2 - (cos(x)^2 - sin(x)^2)^2)^2)^2)^2)*(64*(4*cos(x)^2*sin(x)^2 - (cos(x)^2 - sin(x)^2)^2)^2*(cos(x)^2 - sin(x)^2)^2*cos(x)^2*sin(x)^2 - (16*(cos(x)^2 - sin(x)^2)^2*cos(x)^2*sin(x)^2 - (4*cos(x)^2*sin(x)^2 - (cos(x)^2 - sin(x)^2)^2)^2)^2)*(8*(64*(4*cos(x)^2*sin(x)^2 - (cos(x)^2 - sin(x)^2)^2)^2*(cos(x)^2 - sin(x)^2)^2*cos(x)^2*sin(x)^2 - (16*(cos(x)^2 - sin(x)^2)^2*cos(x)^2*sin(x)^2 - (4*cos(x)^2*sin(x)^2 - (cos(x)^2 - sin(x)^2)^2)^2)^2)*(16*(cos(x)^2 - sin(x)^2)^2*cos(x)^2*sin(x)^2 - (4*cos(x)^2*sin(x)^2 - (cos(x)^2 - sin(x)^2)^2)^2)*(4*cos(x)^2*sin(x)^2 - (cos(x)^2 - sin(x)^2)^2)^2*(cos(x)^2 - sin(x)^2)*cos(x)*sin(x) - (256*(16*(cos(x)^2 - sin(x)^2)^2*cos(x)^2*sin(x)^2 - (4*cos(x)^2*sin(x)^2 - (cos(x)^2 - sin(x)^2)^2)^2)^2*(4*cos(x)^2*sin(x)^2 - (cos(x)^2 - sin(x)^2)^2)^2*(cos(x)^2 - sin(x)^2)^2*cos(x)^2*sin(x)^2 - (64*(4*cos(x)^2*sin(x)^2 - (cos(x)^2 - sin(x)^2)^2)^2*(cos(x)^2 - sin(x)^2)^2*cos(x)^2*sin(x)^2 - (16*(cos(x)^2 - sin(x)^2)^2*cos(x)^2*sin(x)^2 - (4*cos(x)^2*sin(x)^2 - (cos(x)^2 - sin(x)^2)^2)^2)^2)^2)*(cos(x)^2 - sin(x)^2)*cos(x)*sin(x))*(16*(cos(x)^2 - sin(x)^2)^2*cos(x)^2*sin(x)^2 - (4*cos(x)^2*sin(x)^2 - (cos(x)^2 - sin(x)^2)^2)^2)*(4*cos(x)^2*sin(x)^2 - (cos(x)^2 - sin(x)^2)^2)*(cos(x)^2 - sin(x)^2)*cos(x)*sin(x) + (1024*(64*(4*cos(x)^2*sin(x)^2 - (cos(x)^2 - sin(x)^2)^2)^2*(cos(x)^2 - sin(x)^2)^2*cos(x)^2*sin(x)^2 - (16*(cos(x)^2 - sin(x)^2)^2*cos(x)^2*sin(x)^2 - (4*cos(x)^2*sin(x)^2 - (cos(x)^2 - sin(x)^2)^2)^2)^2)^2*(16*(cos(x)^2 - sin(x)^2)^2*cos(x)^2*sin(x)^2 - (4*cos(x)^2*sin(x)^2 - (cos(x)^2 - sin(x)^2)^2)^2)^2*(4*cos(x)^2*sin(x)^2 - (cos(x)^2 - sin(x)^2)^2)^2*(cos(x)^2 - sin(x)^2)^2*cos(x)^2*sin(x)^2 - (256*(16*(cos(x)^2 - sin(x)^2)^2*cos(x)^2*sin(x)^2 - (4*cos(x)^2*sin(x)^2 - (cos(x)^2 - sin(x)^2)^2)^2)^2*(4*cos(x)^2*sin(x)^2 - (cos(x)^2 - sin(x)^2)^2)^2*(cos(x)^2 - sin(x)^2)^2*cos(x)^2*sin(x)^2 - (64*(4*cos(x)^2*sin(x)^2 - (cos(x)^2 - sin(x)^2)^2)^2*(cos(x)^2 - sin(x)^2)^2*cos(x)^2*sin(x)^2 - (16*(cos(x)^2 - sin(x)^2)^2*cos(x)^2*sin(x)^2 - (4*cos(x)^2*sin(x)^2 - (cos(x)^2 - sin(x)^2)^2)^2)^2)^2)^2)*(128*(64*(4*cos(x)^2*sin(x)^2 - (cos(x)^2 - sin(x)^2)^2)^2*(cos(x)^2 - sin(x)^2)^2*cos(x)^2*sin(x)^2 - (16*(cos(x)^2 - sin(x)^2)^2*cos(x)^2*sin(x)^2 - (4*cos(x)^2*sin(x)^2 - (cos(x)^2 - sin(x)^2)^2)^2)^2)*(16*(cos(x)^2 - sin(x)^2)^2*cos(x)^2*sin(x)^2 - (4*cos(x)^2*sin(x)^2 - (cos(x)^2 - sin(x)^2)^2)^2)*(4*cos(x)^2*sin(x)^2 - (cos(x)^2 - sin(x)^2)^2)*(cos(x)^2 - sin(x)^2)^2*cos(x)^2*sin(x)^2 + (256*(16*(cos(x)^2 - sin(x)^2)^2*cos(x)^2*sin(x)^2 - (4*cos(x)^2*sin(x)^2 - (cos(x)^2 - sin(x)^2)^2)^2)^2*(4*cos(x)^2*sin(x)^2 - (cos(x)^2 - sin(x)^2)^2)^2*(cos(x)^2 - sin(x)^2)^2*cos(x)^2*sin(x)^2 - (64*(4*cos(x)^2*sin(x)^2 - (cos(x)^2 - sin(x)^2)^2)^2*(cos(x)^2 - sin(x)^2)^2*cos(x)^2*sin(x)^2 - (16*(cos(x)^2 - sin(x)^2)^2*cos(x)^2*sin(x)^2 - (4*cos(x)^2*sin(x)^2 - (cos(x)^2 - sin(x)^2)^2)^2)^2)^2)*(4*cos(x)^2*sin(x)^2 - (cos(x)^2 - sin(x)^2)^2)))^2\n"
     ]
    }
   ],
   "source": [
    "N=100\n",
    "d=(A^N).determinant()\n",
    "print(\"d=\",d)\n",
    "\n",
    "#A^N,(A^(N)).expand()"
   ]
  },
  {
   "cell_type": "code",
   "execution_count": 41,
   "metadata": {},
   "outputs": [
    {
     "name": "stdout",
     "output_type": "stream",
     "text": [
      "True\n",
      "CPU times: user 9.44 s, sys: 141 ms, total: 9.58 s\n",
      "Wall time: 9.89 s\n",
      "True\n",
      "CPU times: user 2.14 s, sys: 0 ns, total: 2.14 s\n",
      "Wall time: 2.01 s\n"
     ]
    }
   ],
   "source": [
    "%time print(bool(d==1))\n",
    "%time print(bool(d.simplify_trig()==1))"
   ]
  },
  {
   "cell_type": "markdown",
   "metadata": {},
   "source": [
    "### Pas toujours de solutions"
   ]
  },
  {
   "cell_type": "code",
   "execution_count": 42,
   "metadata": {},
   "outputs": [
    {
     "data": {
      "text/plain": [
       "[(-I, 1), (I, 1)]"
      ]
     },
     "execution_count": 42,
     "metadata": {},
     "output_type": "execute_result"
    }
   ],
   "source": [
    "var('x')\n",
    "(x^2+1).roots()"
   ]
  },
  {
   "cell_type": "code",
   "execution_count": 43,
   "metadata": {},
   "outputs": [
    {
     "ename": "SyntaxError",
     "evalue": "invalid syntax (<fstring>, line 1)",
     "output_type": "error",
     "traceback": [
      "\u001b[0;36m  File \u001b[0;32m\"<fstring>\"\u001b[0;36m, line \u001b[0;32m1\u001b[0m\n\u001b[0;31m    (E=)\u001b[0m\n\u001b[0m      ^\u001b[0m\n\u001b[0;31mSyntaxError\u001b[0m\u001b[0;31m:\u001b[0m invalid syntax\n"
     ]
    }
   ],
   "source": [
    "E= (x+1)^5 - (x+2)^4\n",
    "F= (x+1)^5 + (x+2)^4\n",
    "EF=E*F\n",
    "print(f\"{E=}\\n{F=}\\n{EF=}\")\n",
    "EF.roots(x)"
   ]
  },
  {
   "cell_type": "code",
   "execution_count": null,
   "metadata": {},
   "outputs": [],
   "source": [
    "E= (x+1)^10 - (x+2)^9\n",
    "F= (x+1)^10 + (x+2)^9\n",
    "EF=E*F\n",
    "print(f\"{E=}\\n{F=}\\n{EF=}\")\n",
    "EF.roots(x) ## aucunes solution trouvées alors que c'est un polynôme"
   ]
  },
  {
   "cell_type": "markdown",
   "metadata": {},
   "source": [
    "Pour résoudre on passe du calcul symbolique au calcul algébrique.\n",
    "\n",
    "Pour cela on se place dans la structure mathématique des polynomes qui sont des expressions symboliques ayant de bonne propriétés: en particulier une représentation canonique !!!\n",
    "\n",
    "Un polynôme est une expression de la forme : $a_0+a_1X+\\dots+a_nX^n$ avec $n$ une valeur connue et les coefficients $\\{a_0,a_1,\\dots,a_n\\}$ qui sont tous du même type (Entier, Rationnel, Complexe, ...).\n",
    "\n",
    "$\\Rightarrow$ le vecteur $[a_0,a_1,\\dots,a_n]$ est une représentation canonique de ce polynôme."
   ]
  },
  {
   "cell_type": "code",
   "execution_count": null,
   "metadata": {},
   "outputs": [],
   "source": [
    "# Ensemble des polynomes à coefficient dans QQ\n",
    "# on choisit la variable X comme symbole des polynômes\n",
    "PR.<X>=PolynomialRing(QQ) #ou PR.<X>=QQ[]\n",
    "\n",
    "print(\"type de x: \",x.parent())\n",
    "print(\"type de X: \",X.parent())\n",
    "bool(X==x)"
   ]
  },
  {
   "cell_type": "code",
   "execution_count": null,
   "metadata": {},
   "outputs": [],
   "source": [
    "print((2*X+4).parent()) \n",
    "print((2*x+4).parent()) \n",
    "print((2*X+ cos(3)).parent())\n",
    "print((2*X+0.5).parent()) # attention coercion vers les polynomes à coefficient dans RR\n",
    "RR"
   ]
  },
  {
   "cell_type": "code",
   "execution_count": null,
   "metadata": {},
   "outputs": [],
   "source": [
    "# on convertit les expressions symboliques vers les polynomes en substituant \n",
    "# la variable x par celle des polynômes en X et en construisant le polynôme associé\n",
    "polyE=PR(E.subs(x=X)) \n",
    "polyF=PR(F.subs(x=X))\n",
    "polyEF=polyE*polyF\n",
    "show(f\"une expression symbolique: {E=}\")\n",
    "show(f\"un polynomes: {polyE=}\")\n"
   ]
  },
  {
   "cell_type": "code",
   "execution_count": null,
   "metadata": {},
   "outputs": [],
   "source": [
    "# calcul des racines dans le domaine de définition du polynome (ici Q)\n",
    "print(f\"calcul des racines sur {polyEF.base_ring()}\")\n",
    "polyEF.roots()"
   ]
  },
  {
   "cell_type": "code",
   "execution_count": null,
   "metadata": {},
   "outputs": [],
   "source": [
    "# calcul des racines dans C\n",
    "R=polyEF.roots(CC)\n",
    "R"
   ]
  },
  {
   "cell_type": "code",
   "execution_count": null,
   "metadata": {},
   "outputs": [],
   "source": [
    "R[0][0],polyEF(R[0][0])"
   ]
  },
  {
   "cell_type": "code",
   "execution_count": null,
   "metadata": {},
   "outputs": [],
   "source": [
    "polyEF(ComplexField(80)(R[0][0]))"
   ]
  },
  {
   "cell_type": "code",
   "execution_count": null,
   "metadata": {},
   "outputs": [],
   "source": [
    "# calcul de la forme canonique d'un produit de polynômes\n",
    "E1= (x+1)^100 - (x+2)^99\n",
    "F1= (x+1)^100 + (x+2)^99\n",
    "polyE1=PR(E.subs(x=X)) \n",
    "polyF1=PR(F.subs(x=X))\n",
    "\n",
    "# via la representation par arbre (exp symbolique)\n",
    "%time (E1*F1).expand() \n",
    "# via la representation par liste des coefficients\n",
    "%time polyEF1=polyE1*polyF1 "
   ]
  },
  {
   "cell_type": "markdown",
   "metadata": {},
   "source": [
    "**A RETENIR**\n",
    "- le calcul symbolique permet de manipuler n'importe quelles expressions faisant intervenir des symboles et des fonctions \n",
    "- pas toujours possible de trouver des solutions avec uniquement des calculs symboliques\n",
    "- l'utilisation de calcul algèbrique est souvent préférable si on connaît la structure mathématique sous-jacente (Ex. les polynômes, les matrices, ...)\n",
    "- le calcul algébrique sera la plupart du temps plus rapide\n",
    "- parfois on retrouve un mélange de calcul algébrique et numérique (résolution dans les complexes si le problème est défini sur les nombres rationnels)"
   ]
  },
  {
   "cell_type": "markdown",
   "metadata": {},
   "source": [
    "## Les matrices"
   ]
  },
  {
   "cell_type": "code",
   "execution_count": null,
   "metadata": {},
   "outputs": [],
   "source": [
    "A=matrix([[1,2],[3,4]])\n",
    "B=matrix([[1,2,3],[4,5,6]])\n",
    "print(A,B)\n",
    "show(A,B)"
   ]
  },
  {
   "cell_type": "code",
   "execution_count": null,
   "metadata": {},
   "outputs": [],
   "source": [
    "# addition de matrice\n",
    "show(A+A)\n",
    "# multiplication par un scalaire\n",
    "show(3*A , A+A+A)"
   ]
  },
  {
   "cell_type": "code",
   "execution_count": null,
   "metadata": {},
   "outputs": [],
   "source": [
    "show(\"A=\",A)\n",
    "show(\"B=\",B)\n",
    "\n",
    "A+B"
   ]
  },
  {
   "cell_type": "markdown",
   "metadata": {},
   "source": [
    "### matrices et combinaisons linéaires"
   ]
  },
  {
   "cell_type": "code",
   "execution_count": null,
   "metadata": {},
   "outputs": [],
   "source": [
    "# une combinaison linéaire de symboles\n",
    "var('x y z')\n",
    "e=[x,y,z]\n",
    "3*e[0]+2*e[1]+5*e[2]"
   ]
  },
  {
   "cell_type": "code",
   "execution_count": null,
   "metadata": {},
   "outputs": [],
   "source": [
    "u=matrix(1,3,[1,2,3])\n",
    "v=matrix(3,1,e)\n",
    "show(u,v)"
   ]
  },
  {
   "cell_type": "code",
   "execution_count": null,
   "metadata": {},
   "outputs": [],
   "source": [
    "# le produit de matrice n*1 par 1*n est une combinaison linéaire\n",
    "u*v"
   ]
  },
  {
   "cell_type": "code",
   "execution_count": null,
   "metadata": {},
   "outputs": [],
   "source": []
  },
  {
   "cell_type": "code",
   "execution_count": null,
   "metadata": {},
   "outputs": [],
   "source": [
    "# on peut augmenter le nombre de combinaisons linéaires (on ajoute une ligne à gauche)\n",
    "B=matrix(2,3,[1,2,3,4,5,6])\n",
    "show(B,v)\n",
    "show(B*v)"
   ]
  },
  {
   "cell_type": "code",
   "execution_count": null,
   "metadata": {},
   "outputs": [],
   "source": [
    "# on peut augmenter le nombre de combinaisons linéaires (on ajoute une colonne à droite)\n",
    "var('x,y,z,a,b,c')\n",
    "V=matrix(3,2,[[x,a],[y,b],[z,c]])\n",
    "show(V)\n",
    "show(B*V)"
   ]
  },
  {
   "cell_type": "code",
   "execution_count": null,
   "metadata": {},
   "outputs": [],
   "source": [
    "# ATTENTION: les tailles des matrices doivent correspondre\n",
    "show(V)\n",
    "V*V"
   ]
  },
  {
   "cell_type": "code",
   "execution_count": null,
   "metadata": {},
   "outputs": [],
   "source": [
    "# ATTENTION: le produit matriciel n'est pas commutatif\n",
    "bool(V*B==B*V)"
   ]
  },
  {
   "cell_type": "code",
   "execution_count": null,
   "metadata": {},
   "outputs": [],
   "source": [
    "show(V*B,B*V)"
   ]
  },
  {
   "cell_type": "code",
   "execution_count": null,
   "metadata": {},
   "outputs": [],
   "source": [
    "# On peut transposer une matrice câd intervertir A[i,j] avec A[j,i]\n",
    "show(V)\n",
    "show(V.transpose())"
   ]
  },
  {
   "cell_type": "code",
   "execution_count": null,
   "metadata": {},
   "outputs": [],
   "source": [
    "# le produit d'une matrice par sa transposée est toujours bien défini\n",
    "show(V.transpose()*V)\n",
    "show(V*V.transpose())"
   ]
  },
  {
   "cell_type": "markdown",
   "metadata": {},
   "source": [
    "### Les espaces de matrices"
   ]
  },
  {
   "cell_type": "code",
   "execution_count": null,
   "metadata": {},
   "outputs": [],
   "source": [
    "# le premier paramètres est le domaine des coefficients (optionnel)\n",
    "# si il est présent il impose le type des coefficients\n",
    "A=matrix([[1,2],[3,4]])\n",
    "B=matrix(RR,[[1,2/3],[3,4]])\n",
    "C=matrix([[1,2/3],[3,4]])\n",
    "A.parent(),B.parent(),C.parent()"
   ]
  },
  {
   "cell_type": "code",
   "execution_count": null,
   "metadata": {},
   "outputs": [],
   "source": [
    "matrix(ZZ,[[1,2/3],[3,4]])"
   ]
  },
  {
   "cell_type": "code",
   "execution_count": null,
   "metadata": {},
   "outputs": [],
   "source": [
    "# le second/troisièmes paramètres sont les dimensions (optionnel)\n",
    "# si ils sont présents ils imposent le nombre de coefficients (si aucun que des zéros)\n",
    "A=matrix(ZZ,2,2)\n",
    "B=matrix(ZZ,2,2,[[4,5],[6,7]])\n",
    "C=matrix(ZZ,2,2,[4,5,6,7])\n",
    "show(A)\n",
    "show(B)\n",
    "show(C)"
   ]
  },
  {
   "cell_type": "code",
   "execution_count": null,
   "metadata": {},
   "outputs": [],
   "source": [
    "# Comme les matrices vivent dans un espace de matrice on peut définir cet objet\n",
    "MS23=MatrixSpace(ZZ,2,3)\n",
    "MS22=MatrixSpace(QQ,2,2)\n",
    "show(MS22,\"\\tet\\t\",MS23)\n",
    "MS22,MS23"
   ]
  },
  {
   "cell_type": "code",
   "execution_count": null,
   "metadata": {},
   "outputs": [],
   "source": [
    "MS23.dimension() , MS23.dims()"
   ]
  },
  {
   "cell_type": "code",
   "execution_count": null,
   "metadata": {},
   "outputs": [],
   "source": [
    "A=MS22.matrix([1,2,3,4])\n",
    "A.parent()"
   ]
  },
  {
   "cell_type": "code",
   "execution_count": null,
   "metadata": {},
   "outputs": [],
   "source": [
    "MS22.random_element()\n",
    "show(_)"
   ]
  },
  {
   "cell_type": "code",
   "execution_count": null,
   "metadata": {},
   "outputs": [],
   "source": [
    "MS10=MatrixSpace(ZZ,10,10)\n",
    "MS10.random_element(density=1,x=0,y=100)\n",
    "show(_)"
   ]
  },
  {
   "cell_type": "code",
   "execution_count": null,
   "metadata": {},
   "outputs": [],
   "source": [
    "MS10=MS10.change_ring(QQ)\n",
    "MS10.random_element(density=0.5,num_bound=100,den_bound=100)\n",
    "show(_)"
   ]
  },
  {
   "cell_type": "markdown",
   "metadata": {},
   "source": [
    "### un peu de calcul algébrique matriciel"
   ]
  },
  {
   "cell_type": "code",
   "execution_count": null,
   "metadata": {},
   "outputs": [],
   "source": [
    "N=10\n",
    "q=17\n",
    "MS=MatrixSpace(GF(q),N,N)\n",
    "A=MS.random_element()\n",
    "show(\"A=\",A)\n",
    "show(f\"det(A)={A.det()}\")"
   ]
  },
  {
   "cell_type": "code",
   "execution_count": null,
   "metadata": {},
   "outputs": [],
   "source": [
    "B=A.change_ring(ZZ)\n",
    "show(\"B=\",B)\n",
    "show(f\"det(B)={B.det()}\")"
   ]
  },
  {
   "cell_type": "code",
   "execution_count": null,
   "metadata": {},
   "outputs": [],
   "source": [
    "B.det()%q == A.det()"
   ]
  },
  {
   "cell_type": "code",
   "execution_count": null,
   "metadata": {},
   "outputs": [],
   "source": [
    "show(A^-1)"
   ]
  },
  {
   "cell_type": "code",
   "execution_count": null,
   "metadata": {},
   "outputs": [],
   "source": [
    "show(B^-1)"
   ]
  },
  {
   "cell_type": "code",
   "execution_count": null,
   "metadata": {},
   "outputs": [],
   "source": [
    "(B^(-1)%q), A^-1\n",
    "show(_)"
   ]
  },
  {
   "cell_type": "code",
   "execution_count": null,
   "metadata": {},
   "outputs": [],
   "source": [
    "# Expliquer le résultat obtenu\n",
    "(B^(-1)%q) ==  A^-1"
   ]
  },
  {
   "cell_type": "code",
   "execution_count": null,
   "metadata": {},
   "outputs": [],
   "source": []
  },
  {
   "cell_type": "code",
   "execution_count": null,
   "metadata": {},
   "outputs": [],
   "source": []
  },
  {
   "cell_type": "code",
   "execution_count": null,
   "metadata": {},
   "outputs": [],
   "source": []
  },
  {
   "cell_type": "code",
   "execution_count": null,
   "metadata": {},
   "outputs": [],
   "source": [
    "(B^(-1)%q).parent(),(A^-1).parent()"
   ]
  },
  {
   "cell_type": "code",
   "execution_count": null,
   "metadata": {},
   "outputs": [],
   "source": [
    "(B^(-1)%q) ==  (A^-1).change_ring(B.base_ring())"
   ]
  },
  {
   "cell_type": "code",
   "execution_count": null,
   "metadata": {},
   "outputs": [],
   "source": [
    "(B^(-1)).change_ring(A.base_ring()) ==  (A^-1)"
   ]
  },
  {
   "cell_type": "code",
   "execution_count": null,
   "metadata": {},
   "outputs": [],
   "source": []
  },
  {
   "cell_type": "code",
   "execution_count": null,
   "metadata": {},
   "outputs": [],
   "source": []
  }
 ],
 "metadata": {
  "celltoolbar": "Éditer les Méta-Données",
  "kernelspec": {
   "display_name": "SageMath 9.3",
   "language": "sage",
   "name": "sagemath"
  },
  "language_info": {
   "codemirror_mode": {
    "name": "ipython",
    "version": 3
   },
   "file_extension": ".py",
   "mimetype": "text/x-python",
   "name": "python",
   "nbconvert_exporter": "python",
   "pygments_lexer": "ipython3",
   "version": "3.7.10"
  },
  "toc": {
   "base_numbering": 1,
   "nav_menu": {},
   "number_sections": true,
   "sideBar": true,
   "skip_h1_title": true,
   "title_cell": "Table of Contents",
   "title_sidebar": "Contents",
   "toc_cell": false,
   "toc_position": {
    "height": "calc(100% - 180px)",
    "left": "10px",
    "top": "150px",
    "width": "165px"
   },
   "toc_section_display": true,
   "toc_window_display": true
  },
  "varInspector": {
   "cols": {
    "lenName": 16,
    "lenType": 16,
    "lenVar": 40
   },
   "kernels_config": {
    "python": {
     "delete_cmd_postfix": "",
     "delete_cmd_prefix": "del ",
     "library": "var_list.py",
     "varRefreshCmd": "print(var_dic_list())"
    },
    "r": {
     "delete_cmd_postfix": ") ",
     "delete_cmd_prefix": "rm(",
     "library": "var_list.r",
     "varRefreshCmd": "cat(var_dic_list()) "
    }
   },
   "types_to_exclude": [
    "module",
    "function",
    "builtin_function_or_method",
    "instance",
    "_Feature"
   ],
   "window_display": false
  }
 },
 "nbformat": 4,
 "nbformat_minor": 4
}
